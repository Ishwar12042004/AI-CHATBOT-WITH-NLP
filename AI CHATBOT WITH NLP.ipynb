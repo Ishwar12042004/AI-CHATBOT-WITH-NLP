{
 "cells": [
  {
   "cell_type": "code",
   "execution_count": null,
   "id": "92ceb4c6-99d3-4a83-9290-c4f289674272",
   "metadata": {},
   "outputs": [
    {
     "name": "stdout",
     "output_type": "stream",
     "text": [
      "Hello! I'm your chatbot. Type 'quit' to exit.\n",
      "ChatBot: Hey there!\n",
      "ChatBot: I'm doing well, thank you! How about you?\n",
      "ChatBot: Goodbye! Have a great day!\n"
     ]
    }
   ],
   "source": [
    "import nltk   # Download nltk python libraries{pip install nltk}\n",
    "import random  # Using random in python\n",
    "import string  \n",
    "from nltk.chat.util import Chat, reflections\n",
    "\n",
    "pairs = [\n",
    "    [                                                  # You have to write some pairs to conversation with chatbot\n",
    "        r\"hi|hello|hey|sup|yo\", \n",
    "        [\"Hello!\", \"Hey there!\", \"Hi! How can I help you?\"]  \n",
    "    ],\n",
    "    [\n",
    "        r\"how are you ?|wassup|how are you doing ?\",\n",
    "        [\"I'm doing well, thank you! How about you?\", \"I'm great! What about you?\"]\n",
    "    ],\n",
    "    [\n",
    "        r\"who are you ?|what are you called ?\",\n",
    "        [\"I'm a chatbot created using NLTK!\", \"You can call me ChatBot!\"]\n",
    "    ],\n",
    "    [\n",
    "        r\"what can you do ?|what do you do ?\",\n",
    "        [\"I can answer your questions! Try asking me something.\"]\n",
    "    ],\n",
    "    [\n",
    "        r\"quit|bye|goodbye\", \n",
    "        [\"Goodbye! Have a nice day!\", \"See you later!\"]\n",
    "    ]\n",
    "]                                                          # You should have ask some question\n",
    "\n",
    "chatbot = Chat(pairs, reflections)\n",
    "\n",
    "def chat():\n",
    "    print(\"Hello! I'm your chatbot. Type 'quit' to exit.\")\n",
    "    while True:\n",
    "        user_input = input(\"You: \")\n",
    "        if user_input.lower() == 'quit':\n",
    "            print(\"ChatBot: Goodbye! Have a great day!\")\n",
    "            break\n",
    "        response = chatbot.respond(user_input)\n",
    "        print(f\"ChatBot: {response}\")\n",
    "\n",
    "if __name__ == \"__main__\":\n",
    "    chat()"
   ]
  }
 ],
 "metadata": {
  "kernelspec": {
   "display_name": "Python 3",
   "language": "python",
   "name": "python3"
  },
  "language_info": {
   "codemirror_mode": {
    "name": "ipython",
    "version": 3
   },
   "file_extension": ".py",
   "mimetype": "text/x-python",
   "name": "python",
   "nbconvert_exporter": "python",
   "pygments_lexer": "ipython3",
   "version": "3.12.5"
  }
 },
 "nbformat": 4,
 "nbformat_minor": 5
}
